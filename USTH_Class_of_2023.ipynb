{
  "nbformat": 4,
  "nbformat_minor": 0,
  "metadata": {
    "colab": {
      "provenance": []
    },
    "kernelspec": {
      "name": "python3",
      "display_name": "Python 3"
    },
    "language_info": {
      "name": "python"
    }
  },
  "cells": [
    {
      "cell_type": "code",
      "execution_count": null,
      "metadata": {
        "id": "iLo912qCr5GZ"
      },
      "outputs": [],
      "source": [
        "# @title Setup and Load the data\n",
        "import pandas as pd\n",
        "import matplotlib.pyplot as plt\n",
        "import calendar\n",
        "\n",
        "path_to_dataset = '/content/data.csv'\n",
        "student_list = pd.read_csv(path_to_dataset)"
      ]
    },
    {
      "cell_type": "code",
      "source": [
        "# @title Data cleaning\n",
        "\n",
        "# Drop the order number column\n",
        "student_list.drop('Số TT', axis=1, inplace=True)\n",
        "\n",
        "# Replacing gender column from Vietnamese to English\n",
        "student_list['Giới tính'].replace('Nam', 'Male', inplace=True)\n",
        "student_list['Giới tính'].replace('Nữ', 'Female', inplace=True)\n",
        "student_list.rename(columns={'Giới tính': 'Gender'}, inplace=True)\n",
        "\n",
        "# same for course column\n",
        "course = 'Ngành đào tạo'\n",
        "print(set(student_list[course].tolist()))\n",
        "\n",
        "vietnamese = ['Công nghệ thông tin – Truyền thông',\n",
        "              'Khoa học Vũ trụ và Công nghệ Vệ tinh',\n",
        "              'Công nghệ Kỹ thuật Cơ điện tử',\n",
        "              'Kỹ thuật ô tô',\n",
        "              'Khoa học vật liệu tiên tiến và Công nghệ Nano',\n",
        "              'An toàn thông tin',\n",
        "              'Khoa học và Công nghệ y khoa',\n",
        "              'Khoa học Môi trường Ứng dụng',\n",
        "              'Toán ứng dụng',\n",
        "              'Hóa học',\n",
        "              'Khoa học và Công nghệ thực phẩm',\n",
        "              'Công nghệ sinh học – Phát triển thuốc',\n",
        "              'Khoa học dữ liệu',\n",
        "              'Vật lý Kỹ thuật – Điện tử',\n",
        "              'Kỹ thuật Hàng không',\n",
        "              'Kĩ thuật điện và Năng lượng tái tạo']\n",
        "\n",
        "english = ['Information Technology - Communication',\n",
        "           'Space Science and Satellite Technology',\n",
        "           'Mechatronics Engineering Technology',\n",
        "           'Automotive Engineering',\n",
        "           'Advanced Materials Science and Nanotechnology',\n",
        "           'Information Security',\n",
        "           'Science and Medical Technology',\n",
        "           'Applied Environmental Science',\n",
        "           'Applied Mathematics', 'Chemistry',\n",
        "           'Science and Food Technology',\n",
        "           'Biotechnology - Drug Development',\n",
        "           'Data Science',\n",
        "           'Physical Engineering - Electronics',\n",
        "           'Aviation Engineering',\n",
        "           'Electrical Engineering and Renewable Energy'\n",
        "           ]\n",
        "\n",
        "student_list[course] = student_list[course].replace(vietnamese, english)"
      ],
      "metadata": {
        "id": "NAbAEVtiMmBP"
      },
      "execution_count": null,
      "outputs": []
    },
    {
      "cell_type": "code",
      "source": [
        "student_list"
      ],
      "metadata": {
        "id": "FXKRrNw90nnP"
      },
      "execution_count": null,
      "outputs": []
    },
    {
      "cell_type": "code",
      "source": [
        "student_list['Gender'].value_counts().plot.pie(autopct='%1.1f%%')\n",
        "plt.show()"
      ],
      "metadata": {
        "id": "kOlTQfdLLy21"
      },
      "execution_count": null,
      "outputs": []
    },
    {
      "cell_type": "code",
      "source": [
        "ax = student_list['Ngành đào tạo'].value_counts().plot.pie(autopct='%1.1f%%')\n",
        "plt.legend(bbox_to_anchor=(2, 1), loc='upper left')\n",
        "\n",
        "# change the title of the plot\n",
        "plt.ylabel(\"\")\n",
        "\n",
        "plt.show()"
      ],
      "metadata": {
        "id": "vIgzqfEmLOoS"
      },
      "execution_count": null,
      "outputs": []
    },
    {
      "cell_type": "code",
      "source": [
        "# @title Count male-female in a course\n",
        "major = 'Chemistry' # @param ['Space Science and Satellite Technology', 'Automotive Engineering', 'Electrical Engineering and Renewable Energy', 'Aviation Engineering', 'Chemistry', 'Physical Engineering - Electronics', 'Data Science', 'Information Security', 'Information Technology - Communication', 'Applied Environmental Science', 'Biotechnology - Drug Development', 'Applied Mathematics', 'Science and Medical Technology', 'Science and Food Technology', 'Advanced Materials Science and Nanotechnology', 'Mechatronics Engineering Technology']\n",
        "print(student_list[student_list[course] == major]['Gender'].value_counts())"
      ],
      "metadata": {
        "id": "y5GfCwjy7-rK"
      },
      "execution_count": null,
      "outputs": []
    },
    {
      "cell_type": "code",
      "source": [
        "counts = student_list.groupby(course)['Gender'].value_counts().unstack()\n",
        "\n",
        "# calculate ratio of male to female\n",
        "def ratio(x):\n",
        "  return x['Male'] / x['Female']\n",
        "\n",
        "counts['ratio'] = counts.apply(ratio, axis=1)\n",
        "\n",
        "# sort ratios in descending order and assign rank\n",
        "counts = counts.sort_values('ratio', ascending=True)\n",
        "counts['rank'] = counts['ratio'].rank(method='dense', ascending=False)\n",
        "\n",
        "print(counts)"
      ],
      "metadata": {
        "id": "bJVzXZYDl7Hb"
      },
      "execution_count": null,
      "outputs": []
    },
    {
      "cell_type": "code",
      "source": [
        "birthday = 'Ngày sinh'\n",
        "\n",
        "# Convert your list of timestamps to a pandas series\n",
        "birthday_series = pd.Series(student_list[birthday].tolist())\n",
        "\n",
        "# Sort your series by the date values\n",
        "birthday_series = birthday_series.sort_values()\n",
        "pd.set_option(\"display.max_rows\", None)\n",
        "\n",
        "\n",
        "# Print the table\n",
        "print(birthday_series)\n"
      ],
      "metadata": {
        "id": "7-ITZoC0vxVB"
      },
      "execution_count": null,
      "outputs": []
    }
  ]
}
